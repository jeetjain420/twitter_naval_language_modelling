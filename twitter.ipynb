{
 "cells": [
  {
   "cell_type": "code",
   "execution_count": 1,
   "metadata": {},
   "outputs": [],
   "source": [
    "import GetOldTweets3 as got\n",
    "#using getoldtweets library to get twitter data."
   ]
  },
  {
   "cell_type": "code",
   "execution_count": null,
   "metadata": {},
   "outputs": [],
   "source": [
    "#getting tweets by username\n",
    "tweetCriteria = got.manager.TweetCriteria().setUsername('orangebook_').setMaxTweets(100)\n",
    "                                                                                    \n",
    "tweet = got.manager.TweetManager.getTweets(tweetCriteria)\n",
    "\n",
    "t = [[twee.text] for twee in tweet]\n",
    "for i in range (0,100):\n",
    "    print(t[i])\n",
    "    \n",
    "\n"
   ]
  },
  {
   "cell_type": "code",
   "execution_count": null,
   "metadata": {},
   "outputs": [],
   "source": [
    "import pandas as pd\n",
    "t = pd.DataFrame(t)\n",
    "\n",
    "t.to_csv(r'C:\\Users\\acer pc\\OneDrive\\Desktop\\orangebook\\orangebook.csv')"
   ]
  },
  {
   "cell_type": "code",
   "execution_count": 2,
   "metadata": {},
   "outputs": [
    {
     "name": "stdout",
     "output_type": "stream",
     "text": [
      "['\"Changing your interpretation of your past is often just as good as changing your past.\" - @naval']\n",
      "['Thanks for giving credit ']\n",
      "['\"A contrarian isn’t one who always objects - that’s a conformist of a different sort. A contrarian reasons independently, from the ground up, and resists pressure to conform.\" - @naval']\n",
      "['\"Work as hard as you can. Even though who you work with and what you work on are more important than how hard you work.\" - @naval']\n",
      "['\"Involve groups in the creative process and you inevitably end up with a pile of pleasing, socially-acceptable lies. Contrast blockbuster movies with the great books.\" - @naval']\n",
      "['\"If you’re more passionate about founding a business than the business itself, you can fall into a ten year trap. Better to stay emotionally unattached and select the best opportunity that arises.\" - @naval']\n",
      "['\"You will get rich by giving society what it wants but does not yet know how to get. At scale.\" - @naval']\n",
      "['\"If friends spoke to us like politicians and actors, reading aloud scripts written by others, we wouldn\\'t take them seriously as individuals.\" - @naval']\n",
      "['\"A good conference is a vacation that you take with really smart friends.\" - @naval']\n",
      "['\"Your goal in life is to find out the people who need you the most, to find out the business that needs you the most, to find the project and the art that needs you the most. There is something out there just for you.\" - @naval']\n",
      "['\"A rational person can find peace by cultivating indifference to things outside of their control.\" - @naval']\n",
      "['\"Building a following on Twitter is building a castle out of sand, as the implacable tide shifts in and out. Invest in the free and open web - blogs, podcasts, newsletters.\" - @naval']\n",
      "['\"Knowledge is either from direct experience or from verifiable, falsifiable science. There is knowledge that is transmitted but not verifiable / falsifiable, and this knowledge is indistinguishable from that which is false.\" - @naval']\n",
      "['\"Politics is the exercise of power without merit.\" - @naval']\n",
      "['\"If you’re more passionate about founding a business than the business itself, you can fall into a ten year trap. Better to stay emotionally unattached and select the best opportunity that arises.\" - @naval']\n",
      "['\"Creativity starts with an empty calendar and ends with a full one.\" - @naval']\n",
      "['\"A rational person can find peace by cultivating indifference to things outside of their control.\" - @naval']\n",
      "['\"We prefer to see “winners” as “naturally talented” rather than “hard working.” Because if it were reversed, what would that imply about us?\" - @naval']\n",
      "['\"Code, money, guns, and encryption are all becoming speech. The first amendment is the last word on freedom.\" - @naval']\n",
      "['\"Technology democratizes consumption but consolidates production. The best person in the world for anything, gets to do it for everyone.\" - @naval']\n",
      "['\"It\\'s never been easier to start a company. It\\'s never been harder to build one.\" - @naval']\n",
      "['\"Signaling virtue is a vice.\" - @naval']\n",
      "['\"Your goal in life is to find out the people who need you the most, to find out the business that needs you the most, to find the project and the art that needs you the most. There is something out there just for you.\" - @naval']\n",
      "['\"Don’t do things that you know are morally wrong. Not because someone is watching, but because you are. Self-esteem is just the reputation that you have with yourself. You’ll always know.\" - @naval']\n",
      "['\"Specific knowledge is found by pursuing your genuine curiosity and passion rather than whatever is hot right now.\" - @naval']\n",
      "['\"Read what you love until you love to read.\" - @naval']\n",
      "['\"The biggest cost of politics is that it can cause you to have comforting, false, and ultimately expensive beliefs about business and science.\" - @naval']\n",
      "['\"Twitter is a microphone. It makes instant celebrities of each of us, with retweet fame and follower fans. Celebrities may be the unhappiest people in the world.\" - @naval']\n",
      "['\"Technology is the application of knowledge to control the natural world. It’s the greatest driver of both human prosperity and our capacity for self-annihilation.\" - @naval']\n",
      "['\"Building a following on Twitter is building a castle out of sand, as the implacable tide shifts in and out. Invest in the free and open web - blogs, podcasts, newsletters.\" - @naval']\n",
      "['\"When building habits, choose consistency over content. The best book is the one you can’t put down. The best exercise is the one you enjoy doing every day. The best health food is the one you find tasty. The best work is the work you’d do for free.\" - @naval']\n",
      "['\"A busy mind accelerates the passage of subjective time.\" - @naval']\n",
      "['\"The best way, perhaps the only way, to change others is to become an example.\" - @naval']\n",
      "['\"In an age of infinite leverage, judgement is the most important skill.\" - @naval']\n",
      "['\"If you’re more passionate about founding a business than the business itself, you can fall into a ten year trap. Better to stay emotionally unattached and select the best opportunity that arises.\" - @naval']\n",
      "['\"Judgement requires experience, but can be built faster by learning foundational skills.\" - @naval']\n",
      "['\"True religion is rejecting all teachings and thinking for yourself.\" - @naval']\n",
      "['\"The first rule of handling conflict is don\\'t hang around with people who are constantly engaging in conflict.\" - @naval']\n",
      "['\"Signaling virtue is a vice.\" - @naval']\n",
      "[' ']\n",
      "['\"The Efficient Markets Hypothesis fails because humans are herd animals, not independent rational actors. Thus the best investors tend to be antisocial and contrarian.\" - @naval']\n",
      "['\"Humans aren’t evolved to worry about everything happening outside of their immediate environment.\" - @naval']\n",
      "['\"The selfish reason to be ethical is that it attracts the other ethical people in the network.\" - @naval']\n",
      "['\"Relax. You’ll live longer *and* perform better.\" - @naval']\n",
      "['\"Self-image is the prison. Other people are the guards.\" - @naval']\n",
      "['\"Trade money for time, not time for money. You’re going to run out of time first.\" - @naval']\n",
      "['\"Doctors won’t make you healthy.Nutritionists won’t make you slim.Teachers won’t make you smart.Gurus won’t make you calm.Mentors won’t make you rich.Trainers won’t make you fit.Ultimately, you have to take responsibility. Save yourself.\" - @naval']\n",
      "['\"Morality and ethics automatically emerge when we realize the long term consequences of our actions.\" - @naval']\n",
      "['\"Involve groups in the creative process and you inevitably end up with a pile of pleasing, socially-acceptable lies. Contrast blockbuster movies with the great books.\" - @naval']\n",
      "['\"Don’t do things that you know are morally wrong. Not because someone is watching, but because you are. Self-esteem is just the reputation that you have with yourself. You’ll always know.\" - @naval']\n",
      "['\"People who live far below their means enjoy a freedom that people busy upgrading their lifestyles can’t fathom.\" - @naval']\n",
      "['\"If you’re more passionate about founding a business than the business itself, you can fall into a ten year trap. Better to stay emotionally unattached and select the best opportunity that arises.\" - @naval']\n",
      "['\"There is no skill called “business.” Avoid business magazines and business classes.\" - @naval']\n",
      "['\"It is the mark of a charalatan to explain a simple concept in a complex way.\" - @naval']\n",
      "['\"People who try to look smart by pointing out obvious exceptions actually signal the opposite.\" - @naval']\n",
      "['\"VCs and universities are both in the business of hunting black swans. They filter the applicant funnel, brand selected candidates, and harvest the winners rep to further enlarge the funnel.\" - @naval']\n",
      "['\"The Efficient Markets Hypothesis fails because humans are herd animals, not independent rational actors. Thus the best investors tend to be antisocial and contrarian.\" - @naval']\n",
      "['\"Choose the non-emotional response to any given situation and see how much easier your life becomes.\" - @naval']\n",
      "['\"Once you’ve truly controlled your own fate, for better or for worse, you’ll never let anyone else tell you what to do.\" - @naval']\n",
      "['\"Twitter is a way to broadcast messages to hundreds of millions of people to find the few dozen that you actually want to talk to.\" - @naval']\n",
      "['\"No meetings before 11am. No meetings when emails or calls will do. Don’t schedule calls, text coordinate them on the fly when possible. Cram all meetings into two days a week. 1-on-1s are usually 30-minute walking meetings.(Meetings are the death of productivity)\" - @naval']\n",
      "['\"Read what you love until you love to read.\" - @naval']\n",
      "['\"There is no skill called “business.” Avoid business magazines and business classes.\" - @naval']\n",
      "['\"You can have the mind or you can have the moment.\" - @naval']\n",
      "['\"People who try to look smart by pointing out obvious exceptions actually signal the opposite.\" - @naval']\n",
      "['\"Networking is overrated. Become first and foremost a person of value and the network will be available whenever you need it.\" - @naval']\n",
      "['\"The internet is the best school ever created. The best peers are on the Internet. The best books are on the Internet. The best teachers are on the Internet. The tools for learning are abundant. It’s the desire to learn that’s scarce.\" - @naval']\n",
      "['\"The selfish reason to be ethical is that it attracts the other ethical people in the network.\" - @naval']\n",
      "['\"Nothing like a health problem to turn up the contrast dial on the rest of life.\" - @naval']\n",
      "['\"The question “why do you want this job?” is also a sales tactic. The candidate will be forced to articulate good reasons out of politeness - and the desire for internal consistency will make them believe these reasons.\" - @naval']\n",
      "['\"Your goal in life is to find out the people who need you the most, to find out the business that needs you the most, to find the project and the art that needs you the most. There is something out there just for you.\" - @naval']\n",
      "['\"True reasoning is only possible when there is no motivation.\" - @naval']\n",
      "['\"The reality is life is a single-player game. You’re born alone. You’re going to die alone. All of your interpretations are alone. All your memories are alone. You’re gone in three generations and nobody cares. Before you showed up, nobody cared. It’s all single-player.\" - @naval']\n",
      "['\"Become the best in the world at what you do. Keep redefining what you do until this is true.\" - @naval']\n",
      "['\"Blockchains are now sucking in top-tier Silicon Valley tech talent faster than any boom since the Internet.\" - @naval']\n",
      "['\"The heart decides, the head rationalizes.\" - @naval']\n",
      "['\"A great goal in life would be to not have to be in a given place at a given time... Being accountable for your output rather than your input. I would love to be paid purely for my judgment.\" - @naval']\n",
      "['\"Read what you love until you love to read.\" - @naval']\n",
      "['\"Knowing how little you matter is very important for your mental health and your happiness\" - @naval']\n",
      "['\"If you’re more passionate about founding a business than the business itself, you can fall into a ten year trap. Better to stay emotionally unattached and select the best opportunity that arises.\" - @naval']\n",
      "['\"Time is the ultimate currency and I should have been more tight fisted with it.\" - @naval']\n",
      "['\"A taste of freedom can make you unemployable.\" - @naval']\n",
      "['\"Morality and ethics automatically emerge when we realize the long term consequences of our actions.\" - @naval']\n",
      "['\"Eventually, every game theory textbook will have a chapter on public blockchains.\" - @naval']\n",
      "['\"Persistent, non-specific anxiety is the result of wanting so much, talking so much, and doing so much that you lose touch with the quiet joys of solitude.\" - @naval']\n",
      "['\"Code, money, guns, and encryption are all becoming speech. The first amendment is the last word on freedom.\" - @naval']\n",
      "['\"Learn to sell. Learn to build. If you can do both, you will be unstoppable.\" - @naval']\n",
      "['\"If you can\\'t decide, the answer is No.\" - @naval']\n",
      "['\"Time is the ultimate currency and I should have been more tight fisted with it.\" - @naval']\n",
      "['\"If you can’t delete an email without flinching or responding, you won’t scale.\" - @naval']\n",
      "['\"If you create intersections, you’re going to have collisions.\" - @naval']\n",
      "['\"Code, money, guns, and encryption are all becoming speech. The first amendment is the last word on freedom.\" - @naval']\n",
      "['\"The question “why do you want this job?” is also a sales tactic. The candidate will be forced to articulate good reasons out of politeness - and the desire for internal consistency will make them believe these reasons.\" - @naval']\n",
      "['\"A good conference is a vacation that you take with really smart friends.\" - @naval']\n",
      "['\"Everybody wants to hire the best. Nobody wants to pay them the best..\" - @naval']\n",
      "['\"Don\\'t write to make money, write to build relationships with like minded people that you haven\\'t yet met.\" - @naval']\n",
      "['\"Before you can lie to another, you must first lie to yourself.\" - @naval']\n",
      "['\"Politics is the exercise of power without merit.\" - @naval']\n",
      "['\"The secret to public speaking is to speak as if you were alone.\" - @naval']\n",
      "['\"Twitter is a way to broadcast messages to hundreds of millions of people to find the few dozen that you actually want to talk to.\" - @naval']\n"
     ]
    }
   ],
   "source": [
    "tweetCriteria = got.manager.TweetCriteria().setUsername('navalbot').setMaxTweets(100)\n",
    "                                                                                    \n",
    "tweet = got.manager.TweetManager.getTweets(tweetCriteria)\n",
    "\n",
    "t = [[twee.text] for twee in tweet]\n",
    "for i in range (0,100):\n",
    "    print(t[i])\n",
    "\n",
    "import pandas as pd\n",
    "\n",
    "t = pd.DataFrame(t)\n",
    "t.to_csv(r'C:\\Users\\acer pc\\OneDrive\\Desktop\\orangebook\\orangebook.csv')\n",
    "    "
   ]
  },
  {
   "cell_type": "code",
   "execution_count": 3,
   "metadata": {},
   "outputs": [
    {
     "name": "stderr",
     "output_type": "stream",
     "text": [
      "Using TensorFlow backend.\n"
     ]
    }
   ],
   "source": [
    "import numpy as np\n",
    "import pandas as pd\n",
    "from keras.utils import to_categorical\n",
    "from keras.preprocessing.sequence import pad_sequences\n",
    "from keras.models import Sequential\n",
    "from keras.layers import LSTM, Dense, GRU, Embedding\n",
    "from keras.callbacks import EarlyStopping, ModelCheckpoint"
   ]
  },
  {
   "cell_type": "code",
   "execution_count": 6,
   "metadata": {},
   "outputs": [],
   "source": [
    "data_new = (str(t))"
   ]
  },
  {
   "cell_type": "code",
   "execution_count": 7,
   "metadata": {},
   "outputs": [
    {
     "name": "stdout",
     "output_type": "stream",
     "text": [
      "                                                    0\n",
      "0   \"Changing your interpretation of your past is ...\n",
      "1                           Thanks for giving credit \n",
      "2   \"A contrarian isn’t one who always objects - t...\n",
      "3   \"Work as hard as you can. Even though who you ...\n",
      "4   \"Involve groups in the creative process and yo...\n",
      "..                                                ...\n",
      "95  \"Don't write to make money, write to build rel...\n",
      "96  \"Before you can lie to another, you must first...\n",
      "97  \"Politics is the exercise of power without mer...\n",
      "98  \"The secret to public speaking is to speak as ...\n",
      "99  \"Twitter is a way to broadcast messages to hun...\n",
      "\n",
      "[100 rows x 1 columns]\n"
     ]
    }
   ],
   "source": [
    "print(data_new)"
   ]
  },
  {
   "cell_type": "code",
   "execution_count": null,
   "metadata": {},
   "outputs": [],
   "source": [
    "import re \n",
    "\n",
    "def text_cleaner(text):\n",
    "    newString = text.lower()\n",
    "    newString = re.sub(r\"'s\\b\",\"\",newString)\n",
    "    \n",
    "    newString = re.sub(\"[^a-zA-Z]\", \" \", newString) \n",
    "\n",
    "    long_words = []\n",
    "    \n",
    "    for i in newString.split():\n",
    "        if len(i) >= 3:\n",
    "            long_words.append(i)\n",
    "    return (' '.join(long_words)).strip()\n",
    "\n",
    "data_new = text_cleaner(data_text)"
   ]
  },
  {
   "cell_type": "code",
   "execution_count": 8,
   "metadata": {},
   "outputs": [
    {
     "name": "stdout",
     "output_type": "stream",
     "text": [
      "                                                    0\n",
      "0   \"Changing your interpretation of your past is ...\n",
      "1                           Thanks for giving credit \n",
      "2   \"A contrarian isn’t one who always objects - t...\n",
      "3   \"Work as hard as you can. Even though who you ...\n",
      "4   \"Involve groups in the creative process and yo...\n",
      "..                                                ...\n",
      "95  \"Don't write to make money, write to build rel...\n",
      "96  \"Before you can lie to another, you must first...\n",
      "97  \"Politics is the exercise of power without mer...\n",
      "98  \"The secret to public speaking is to speak as ...\n",
      "99  \"Twitter is a way to broadcast messages to hun...\n",
      "\n",
      "[100 rows x 1 columns]\n"
     ]
    }
   ],
   "source": [
    "print(data_new)"
   ]
  },
  {
   "cell_type": "code",
   "execution_count": 9,
   "metadata": {},
   "outputs": [
    {
     "name": "stdout",
     "output_type": "stream",
     "text": [
      "total sequences: 641\n"
     ]
    }
   ],
   "source": [
    "def create_seq(text):\n",
    "    length = 30\n",
    "    sequences = list()\n",
    "    for i in range(length, len(text)):\n",
    "        seq = text[i-length:i+1]\n",
    "        sequences.append(seq)\n",
    "    print('total sequences: %d' %len(sequences))\n",
    "    return sequences\n",
    "\n",
    "sequences = create_seq(data_new)"
   ]
  },
  {
   "cell_type": "code",
   "execution_count": 10,
   "metadata": {},
   "outputs": [],
   "source": [
    "chars = sorted(list(set(data_new)))\n",
    "mapping = dict((c, i) for i, c in enumerate(chars))\n",
    "\n",
    "def encode_seq(seq):\n",
    "    sequences = list()\n",
    "    for line in seq:\n",
    "        # integer encode line\n",
    "        encoded_seq = [mapping[char] for char in line]\n",
    "        # store\n",
    "        sequences.append(encoded_seq)\n",
    "    return sequences\n",
    "\n",
    "# encode the sequences\n",
    "sequences = encode_seq(sequences)"
   ]
  },
  {
   "cell_type": "code",
   "execution_count": 11,
   "metadata": {},
   "outputs": [
    {
     "name": "stdout",
     "output_type": "stream",
     "text": [
      "Train shape: (576, 30) Val shape: (65, 30)\n"
     ]
    }
   ],
   "source": [
    "from sklearn.model_selection import train_test_split\n",
    "\n",
    "# vocabulary size\n",
    "vocab = len(mapping)\n",
    "sequences = np.array(sequences)\n",
    "# create X and y\n",
    "X, y = sequences[:,:-1], sequences[:,-1]\n",
    "# one hot encode y\n",
    "y = to_categorical(y, num_classes=vocab)\n",
    "# create train and validation sets\n",
    "X_tr, X_val, y_tr, y_val = train_test_split(X, y, test_size=0.1, random_state=42)\n",
    "\n",
    "print('Train shape:', X_tr.shape, 'Val shape:', X_val.shape)"
   ]
  },
  {
   "cell_type": "code",
   "execution_count": 12,
   "metadata": {},
   "outputs": [
    {
     "name": "stdout",
     "output_type": "stream",
     "text": [
      "WARNING:tensorflow:From D:\\Anaconda3\\envs\\myenv\\lib\\site-packages\\tensorflow_core\\python\\ops\\resource_variable_ops.py:1630: calling BaseResourceVariable.__init__ (from tensorflow.python.ops.resource_variable_ops) with constraint is deprecated and will be removed in a future version.\n",
      "Instructions for updating:\n",
      "If using Keras pass *_constraint arguments to layers.\n",
      "Model: \"sequential_1\"\n",
      "_________________________________________________________________\n",
      "Layer (type)                 Output Shape              Param #   \n",
      "=================================================================\n",
      "embedding_1 (Embedding)      (None, 30, 50)            2650      \n",
      "_________________________________________________________________\n",
      "gru_1 (GRU)                  (None, 150)               90450     \n",
      "_________________________________________________________________\n",
      "dense_1 (Dense)              (None, 53)                8003      \n",
      "=================================================================\n",
      "Total params: 101,103\n",
      "Trainable params: 101,103\n",
      "Non-trainable params: 0\n",
      "_________________________________________________________________\n",
      "None\n",
      "WARNING:tensorflow:From D:\\Anaconda3\\envs\\myenv\\lib\\site-packages\\keras\\backend\\tensorflow_backend.py:422: The name tf.global_variables is deprecated. Please use tf.compat.v1.global_variables instead.\n",
      "\n",
      "Train on 576 samples, validate on 65 samples\n",
      "Epoch 1/100\n",
      " - 1s - loss: 3.7199 - acc: 0.2847 - val_loss: 3.2340 - val_acc: 0.2769\n",
      "Epoch 2/100\n",
      " - 0s - loss: 3.0337 - acc: 0.3142 - val_loss: 3.0607 - val_acc: 0.2769\n",
      "Epoch 3/100\n",
      " - 0s - loss: 2.8873 - acc: 0.3142 - val_loss: 2.9404 - val_acc: 0.2769\n",
      "Epoch 4/100\n",
      " - 0s - loss: 2.8547 - acc: 0.3142 - val_loss: 2.8048 - val_acc: 0.2769\n",
      "Epoch 5/100\n",
      " - 0s - loss: 2.8343 - acc: 0.3142 - val_loss: 2.7702 - val_acc: 0.2769\n",
      "Epoch 6/100\n",
      " - 0s - loss: 2.8206 - acc: 0.3142 - val_loss: 2.7741 - val_acc: 0.2769\n",
      "Epoch 7/100\n",
      " - 0s - loss: 2.7706 - acc: 0.3142 - val_loss: 2.7489 - val_acc: 0.2769\n",
      "Epoch 8/100\n",
      " - 0s - loss: 2.7439 - acc: 0.3142 - val_loss: 2.6978 - val_acc: 0.2769\n",
      "Epoch 9/100\n",
      " - 1s - loss: 2.6864 - acc: 0.3177 - val_loss: 2.5936 - val_acc: 0.3077\n",
      "Epoch 10/100\n",
      " - 0s - loss: 2.6054 - acc: 0.3264 - val_loss: 2.5856 - val_acc: 0.3077\n",
      "Epoch 11/100\n",
      " - 0s - loss: 2.5211 - acc: 0.3438 - val_loss: 2.4594 - val_acc: 0.2769\n",
      "Epoch 12/100\n",
      " - 0s - loss: 2.4312 - acc: 0.3472 - val_loss: 2.4539 - val_acc: 0.2769\n",
      "Epoch 13/100\n",
      " - 0s - loss: 2.3668 - acc: 0.3681 - val_loss: 2.4178 - val_acc: 0.2923\n",
      "Epoch 14/100\n",
      " - 0s - loss: 2.3052 - acc: 0.3802 - val_loss: 2.4043 - val_acc: 0.2923\n",
      "Epoch 15/100\n",
      " - 0s - loss: 2.2405 - acc: 0.3872 - val_loss: 2.3939 - val_acc: 0.3231\n",
      "Epoch 16/100\n",
      " - 0s - loss: 2.1909 - acc: 0.4184 - val_loss: 2.3375 - val_acc: 0.3231\n",
      "Epoch 17/100\n",
      " - 0s - loss: 2.1206 - acc: 0.4045 - val_loss: 2.3268 - val_acc: 0.3231\n",
      "Epoch 18/100\n",
      " - 1s - loss: 2.0595 - acc: 0.4132 - val_loss: 2.3259 - val_acc: 0.3385\n",
      "Epoch 19/100\n",
      " - 0s - loss: 2.0052 - acc: 0.4358 - val_loss: 2.2785 - val_acc: 0.3538\n",
      "Epoch 20/100\n",
      " - 1s - loss: 1.9777 - acc: 0.4410 - val_loss: 2.3211 - val_acc: 0.3846\n",
      "Epoch 21/100\n",
      " - 1s - loss: 1.8986 - acc: 0.4497 - val_loss: 2.2775 - val_acc: 0.4154\n",
      "Epoch 22/100\n",
      " - 0s - loss: 1.8574 - acc: 0.4688 - val_loss: 2.2871 - val_acc: 0.4000\n",
      "Epoch 23/100\n",
      " - 0s - loss: 1.8061 - acc: 0.4774 - val_loss: 2.2626 - val_acc: 0.4000\n",
      "Epoch 24/100\n",
      " - 0s - loss: 1.7254 - acc: 0.4878 - val_loss: 2.2918 - val_acc: 0.4000\n",
      "Epoch 25/100\n",
      " - 1s - loss: 1.7174 - acc: 0.4792 - val_loss: 2.3016 - val_acc: 0.4000\n",
      "Epoch 26/100\n",
      " - 0s - loss: 1.6418 - acc: 0.4983 - val_loss: 2.3115 - val_acc: 0.4462\n",
      "Epoch 27/100\n",
      " - 0s - loss: 1.5863 - acc: 0.5295 - val_loss: 2.2983 - val_acc: 0.4154\n",
      "Epoch 28/100\n",
      " - 0s - loss: 1.5331 - acc: 0.5434 - val_loss: 2.3409 - val_acc: 0.4154\n",
      "Epoch 29/100\n",
      " - 0s - loss: 1.4759 - acc: 0.5521 - val_loss: 2.3532 - val_acc: 0.3692\n",
      "Epoch 30/100\n",
      " - 1s - loss: 1.4354 - acc: 0.5556 - val_loss: 2.3538 - val_acc: 0.4462\n",
      "Epoch 31/100\n",
      " - 0s - loss: 1.3822 - acc: 0.5781 - val_loss: 2.4299 - val_acc: 0.3385\n",
      "Epoch 32/100\n",
      " - 0s - loss: 1.3201 - acc: 0.5990 - val_loss: 2.4242 - val_acc: 0.4000\n",
      "Epoch 33/100\n",
      " - 0s - loss: 1.2707 - acc: 0.6233 - val_loss: 2.4170 - val_acc: 0.4000\n",
      "Epoch 34/100\n",
      " - 0s - loss: 1.2141 - acc: 0.6562 - val_loss: 2.4424 - val_acc: 0.4000\n",
      "Epoch 35/100\n",
      " - 0s - loss: 1.1673 - acc: 0.6753 - val_loss: 2.5147 - val_acc: 0.3538\n",
      "Epoch 36/100\n",
      " - 0s - loss: 1.1211 - acc: 0.6354 - val_loss: 2.5122 - val_acc: 0.3538\n",
      "Epoch 37/100\n",
      " - 1s - loss: 1.0365 - acc: 0.7014 - val_loss: 2.5228 - val_acc: 0.3538\n",
      "Epoch 38/100\n",
      " - 0s - loss: 1.0426 - acc: 0.6892 - val_loss: 2.4793 - val_acc: 0.4308\n",
      "Epoch 39/100\n",
      " - 0s - loss: 0.9639 - acc: 0.7361 - val_loss: 2.5357 - val_acc: 0.3846\n",
      "Epoch 40/100\n",
      " - 0s - loss: 0.9174 - acc: 0.7205 - val_loss: 2.5666 - val_acc: 0.4308\n",
      "Epoch 41/100\n",
      " - 1s - loss: 0.8876 - acc: 0.7396 - val_loss: 2.5912 - val_acc: 0.3538\n",
      "Epoch 42/100\n",
      " - 0s - loss: 0.8256 - acc: 0.7691 - val_loss: 2.5584 - val_acc: 0.4154\n",
      "Epoch 43/100\n",
      " - 0s - loss: 0.8158 - acc: 0.7726 - val_loss: 2.6505 - val_acc: 0.4000\n",
      "Epoch 44/100\n",
      " - 0s - loss: 0.7535 - acc: 0.7847 - val_loss: 2.6002 - val_acc: 0.4462\n",
      "Epoch 45/100\n",
      " - 0s - loss: 0.7012 - acc: 0.8177 - val_loss: 2.6415 - val_acc: 0.4462\n",
      "Epoch 46/100\n",
      " - 0s - loss: 0.6419 - acc: 0.8160 - val_loss: 2.6517 - val_acc: 0.4000\n",
      "Epoch 47/100\n",
      " - 0s - loss: 0.6227 - acc: 0.8490 - val_loss: 2.7001 - val_acc: 0.4308\n",
      "Epoch 48/100\n",
      " - 0s - loss: 0.5854 - acc: 0.8438 - val_loss: 2.7067 - val_acc: 0.4462\n",
      "Epoch 49/100\n",
      " - 1s - loss: 0.5384 - acc: 0.8785 - val_loss: 2.7609 - val_acc: 0.4308\n",
      "Epoch 50/100\n",
      " - 0s - loss: 0.4951 - acc: 0.8819 - val_loss: 2.7229 - val_acc: 0.4000\n",
      "Epoch 51/100\n",
      " - 1s - loss: 0.4588 - acc: 0.9045 - val_loss: 2.7785 - val_acc: 0.4308\n",
      "Epoch 52/100\n",
      " - 1s - loss: 0.4424 - acc: 0.9010 - val_loss: 2.7721 - val_acc: 0.4769\n",
      "Epoch 53/100\n",
      " - 0s - loss: 0.4014 - acc: 0.9149 - val_loss: 2.8926 - val_acc: 0.4308\n",
      "Epoch 54/100\n",
      " - 0s - loss: 0.3871 - acc: 0.9219 - val_loss: 2.8736 - val_acc: 0.4154\n",
      "Epoch 55/100\n",
      " - 0s - loss: 0.3574 - acc: 0.9306 - val_loss: 2.8469 - val_acc: 0.4308\n",
      "Epoch 56/100\n",
      " - 0s - loss: 0.3589 - acc: 0.9323 - val_loss: 2.8921 - val_acc: 0.3231\n",
      "Epoch 57/100\n",
      " - 0s - loss: 0.2951 - acc: 0.9583 - val_loss: 2.9594 - val_acc: 0.3385\n",
      "Epoch 58/100\n",
      " - 0s - loss: 0.3070 - acc: 0.9427 - val_loss: 2.9768 - val_acc: 0.3385\n",
      "Epoch 59/100\n",
      " - 0s - loss: 0.2884 - acc: 0.9549 - val_loss: 2.9600 - val_acc: 0.4615\n",
      "Epoch 60/100\n",
      " - 0s - loss: 0.2658 - acc: 0.9583 - val_loss: 2.9873 - val_acc: 0.4462\n",
      "Epoch 61/100\n",
      " - 1s - loss: 0.2454 - acc: 0.9566 - val_loss: 2.9700 - val_acc: 0.3692\n",
      "Epoch 62/100\n",
      " - 1s - loss: 0.2447 - acc: 0.9601 - val_loss: 2.9899 - val_acc: 0.4308\n",
      "Epoch 63/100\n",
      " - 1s - loss: 0.2245 - acc: 0.9774 - val_loss: 3.0321 - val_acc: 0.3385\n",
      "Epoch 64/100\n",
      " - 1s - loss: 0.2060 - acc: 0.9688 - val_loss: 3.0461 - val_acc: 0.3231\n",
      "Epoch 65/100\n",
      " - 0s - loss: 0.1993 - acc: 0.9670 - val_loss: 3.0922 - val_acc: 0.3231\n",
      "Epoch 66/100\n",
      " - 0s - loss: 0.1681 - acc: 0.9878 - val_loss: 3.0756 - val_acc: 0.3231\n",
      "Epoch 67/100\n",
      " - 0s - loss: 0.1760 - acc: 0.9757 - val_loss: 3.1105 - val_acc: 0.4462\n",
      "Epoch 68/100\n",
      " - 0s - loss: 0.2684 - acc: 0.9809 - val_loss: 3.0275 - val_acc: 0.3538\n",
      "Epoch 69/100\n",
      " - 1s - loss: 0.1965 - acc: 0.9705 - val_loss: 3.1680 - val_acc: 0.3077\n",
      "Epoch 70/100\n",
      " - 1s - loss: 0.1692 - acc: 0.9774 - val_loss: 3.1687 - val_acc: 0.2923\n",
      "Epoch 71/100\n",
      " - 1s - loss: 0.1576 - acc: 0.9826 - val_loss: 3.1143 - val_acc: 0.3538\n",
      "Epoch 72/100\n",
      " - 1s - loss: 0.1511 - acc: 0.9878 - val_loss: 3.1500 - val_acc: 0.3231\n",
      "Epoch 73/100\n",
      " - 1s - loss: 0.1492 - acc: 0.9757 - val_loss: 3.2512 - val_acc: 0.3077\n",
      "Epoch 74/100\n",
      " - 1s - loss: 0.1341 - acc: 0.9913 - val_loss: 3.2240 - val_acc: 0.3385\n",
      "Epoch 75/100\n",
      " - 0s - loss: 0.1303 - acc: 0.9878 - val_loss: 3.2207 - val_acc: 0.3538\n",
      "Epoch 76/100\n",
      " - 0s - loss: 0.1164 - acc: 0.9878 - val_loss: 3.2069 - val_acc: 0.3538\n",
      "Epoch 77/100\n",
      " - 0s - loss: 0.1231 - acc: 0.9896 - val_loss: 3.2154 - val_acc: 0.3385\n",
      "Epoch 78/100\n",
      " - 0s - loss: 0.1071 - acc: 0.9913 - val_loss: 3.2489 - val_acc: 0.4462\n",
      "Epoch 79/100\n",
      " - 0s - loss: 0.1301 - acc: 0.9861 - val_loss: 3.2367 - val_acc: 0.4308\n",
      "Epoch 80/100\n",
      " - 0s - loss: 0.1165 - acc: 0.9861 - val_loss: 3.2340 - val_acc: 0.4462\n",
      "Epoch 81/100\n",
      " - 0s - loss: 0.1054 - acc: 0.9861 - val_loss: 3.2829 - val_acc: 0.4308\n"
     ]
    },
    {
     "name": "stdout",
     "output_type": "stream",
     "text": [
      "Epoch 82/100\n",
      " - 1s - loss: 0.0908 - acc: 0.9913 - val_loss: 3.3046 - val_acc: 0.4308\n",
      "Epoch 83/100\n",
      " - 0s - loss: 0.0973 - acc: 0.9861 - val_loss: 3.3056 - val_acc: 0.3385\n",
      "Epoch 84/100\n",
      " - 0s - loss: 0.1041 - acc: 0.9896 - val_loss: 3.3019 - val_acc: 0.4308\n",
      "Epoch 85/100\n",
      " - 0s - loss: 0.1060 - acc: 0.9878 - val_loss: 3.2723 - val_acc: 0.4308\n",
      "Epoch 86/100\n",
      " - 1s - loss: 0.0825 - acc: 0.9965 - val_loss: 3.2769 - val_acc: 0.4462\n",
      "Epoch 87/100\n",
      " - 1s - loss: 0.0847 - acc: 0.9878 - val_loss: 3.2647 - val_acc: 0.4462\n",
      "Epoch 88/100\n",
      " - 0s - loss: 0.0780 - acc: 0.9965 - val_loss: 3.2993 - val_acc: 0.4308\n",
      "Epoch 89/100\n",
      " - 0s - loss: 0.0729 - acc: 0.9948 - val_loss: 3.3301 - val_acc: 0.3538\n",
      "Epoch 90/100\n",
      " - 1s - loss: 0.0651 - acc: 0.9965 - val_loss: 3.3130 - val_acc: 0.4462\n",
      "Epoch 91/100\n",
      " - 1s - loss: 0.0951 - acc: 0.9896 - val_loss: 3.3786 - val_acc: 0.3231\n",
      "Epoch 92/100\n",
      " - 1s - loss: 0.0764 - acc: 0.9913 - val_loss: 3.4051 - val_acc: 0.3385\n",
      "Epoch 93/100\n",
      " - 1s - loss: 0.0724 - acc: 0.9931 - val_loss: 3.4421 - val_acc: 0.3385\n",
      "Epoch 94/100\n",
      " - 0s - loss: 0.0710 - acc: 0.9948 - val_loss: 3.4744 - val_acc: 0.3231\n",
      "Epoch 95/100\n",
      " - 0s - loss: 0.0717 - acc: 0.9965 - val_loss: 3.4302 - val_acc: 0.3385\n",
      "Epoch 96/100\n",
      " - 0s - loss: 0.0656 - acc: 0.9913 - val_loss: 3.4394 - val_acc: 0.3385\n",
      "Epoch 97/100\n",
      " - 1s - loss: 0.0687 - acc: 0.9896 - val_loss: 3.4665 - val_acc: 0.3231\n",
      "Epoch 98/100\n",
      " - 0s - loss: 0.0568 - acc: 0.9948 - val_loss: 3.4924 - val_acc: 0.3231\n",
      "Epoch 99/100\n",
      " - 1s - loss: 0.0577 - acc: 0.9948 - val_loss: 3.4918 - val_acc: 0.3385\n",
      "Epoch 100/100\n",
      " - 1s - loss: 0.0592 - acc: 0.9948 - val_loss: 3.4823 - val_acc: 0.4462\n"
     ]
    },
    {
     "data": {
      "text/plain": [
       "<keras.callbacks.callbacks.History at 0x21b7a36db48>"
      ]
     },
     "execution_count": 12,
     "metadata": {},
     "output_type": "execute_result"
    }
   ],
   "source": [
    "model = Sequential()\n",
    "model.add(Embedding(vocab, 50, input_length=30, trainable=True))\n",
    "model.add(GRU(150, recurrent_dropout=0.1, dropout=0.1))\n",
    "model.add(Dense(vocab, activation='softmax'))\n",
    "print(model.summary())\n",
    "\n",
    "# compile the model\n",
    "model.compile(loss='categorical_crossentropy', metrics=['acc'], optimizer='adam')\n",
    "# fit the model\n",
    "model.fit(X_tr, y_tr, epochs=100, verbose=2, validation_data=(X_val, y_val))"
   ]
  },
  {
   "cell_type": "code",
   "execution_count": 13,
   "metadata": {},
   "outputs": [],
   "source": [
    "# generate a sequence of characters with a language model\n",
    "def generate_seq(model, mapping, seq_length, seed_text, n_chars):\n",
    "\tin_text = seed_text\n",
    "\t# generate a fixed number of characters\n",
    "\tfor _ in range(n_chars):\n",
    "\t\t# encode the characters as integers\n",
    "\t\tencoded = [mapping[char] for char in in_text]\n",
    "\t\t# truncate sequences to a fixed length\n",
    "\t\tencoded = pad_sequences([encoded], maxlen=seq_length, truncating='pre')\n",
    "\t\t# predict character\n",
    "\t\tyhat = model.predict_classes(encoded, verbose=0)\n",
    "\t\t# reverse map integer to character\n",
    "\t\tout_char = ''\n",
    "\t\tfor char, index in mapping.items():\n",
    "\t\t\tif index == yhat:\n",
    "\t\t\t\tout_char = char\n",
    "\t\t\t\tbreak\n",
    "\t\t# append to input\n",
    "\t\tin_text += char\n",
    "\treturn in_text"
   ]
  },
  {
   "cell_type": "code",
   "execution_count": 23,
   "metadata": {},
   "outputs": [
    {
     "name": "stdout",
     "output_type": "stream",
     "text": [
      "18\n"
     ]
    }
   ],
   "source": [
    "inp = 'broadcast messages'\n",
    "print(len(inp))\n"
   ]
  },
  {
   "cell_type": "code",
   "execution_count": 24,
   "metadata": {},
   "outputs": [
    {
     "data": {
      "text/plain": [
       "'broadcast messages to hun...\\n\\n[10'"
      ]
     },
     "execution_count": 24,
     "metadata": {},
     "output_type": "execute_result"
    }
   ],
   "source": [
    "generate_seq(model,mapping,30,inp.lower(),15)"
   ]
  },
  {
   "cell_type": "code",
   "execution_count": null,
   "metadata": {},
   "outputs": [],
   "source": []
  }
 ],
 "metadata": {
  "kernelspec": {
   "display_name": "Python 3",
   "language": "python",
   "name": "python3"
  },
  "language_info": {
   "codemirror_mode": {
    "name": "ipython",
    "version": 3
   },
   "file_extension": ".py",
   "mimetype": "text/x-python",
   "name": "python",
   "nbconvert_exporter": "python",
   "pygments_lexer": "ipython3",
   "version": "3.7.7"
  }
 },
 "nbformat": 4,
 "nbformat_minor": 4
}
